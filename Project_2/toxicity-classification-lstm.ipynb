{
 "cells": [
  {
   "cell_type": "code",
   "execution_count": 1,
   "metadata": {
    "_cell_guid": "b1076dfc-b9ad-4769-8c92-a6c4dae69d19",
    "_uuid": "8f2839f25d086af736a60e9eeb907d3b93b6e0e5",
    "execution": {
     "iopub.execute_input": "2021-06-30T11:41:39.548433Z",
     "iopub.status.busy": "2021-06-30T11:41:39.548167Z",
     "iopub.status.idle": "2021-06-30T11:41:40.532403Z",
     "shell.execute_reply": "2021-06-30T11:41:40.531634Z",
     "shell.execute_reply.started": "2021-06-30T11:41:39.548386Z"
    }
   },
   "outputs": [
    {
     "name": "stderr",
     "output_type": "stream",
     "text": [
      "Using TensorFlow backend.\n"
     ]
    }
   ],
   "source": [
    "import numpy as np\n",
    "import pandas as pd\n",
    "from keras.models import Model\n",
    "from keras.layers import Input, Dense, Embedding, SpatialDropout1D, Dropout, add, concatenate\n",
    "from keras.layers import CuDNNLSTM, Bidirectional, GlobalMaxPooling1D, GlobalAveragePooling1D\n",
    "from keras.preprocessing import text, sequence\n",
    "from keras.callbacks import LearningRateScheduler"
   ]
  },
  {
   "cell_type": "code",
   "execution_count": 2,
   "metadata": {
    "_cell_guid": "79c7e3d0-c299-4dcb-8224-4455121ee9b0",
    "_uuid": "d629ff2d2480ee46fbb7e2d37f6b5fab8052498a",
    "execution": {
     "iopub.execute_input": "2021-06-30T11:41:40.536141Z",
     "iopub.status.busy": "2021-06-30T11:41:40.535911Z",
     "iopub.status.idle": "2021-06-30T11:41:40.541688Z",
     "shell.execute_reply": "2021-06-30T11:41:40.541077Z",
     "shell.execute_reply.started": "2021-06-30T11:41:40.536099Z"
    }
   },
   "outputs": [],
   "source": [
    "EMBEDDING_FILES = [\n",
    "    '../input/fasttext-crawl-300d-2m/crawl-300d-2M.vec',\n",
    "    '../input/glove840b300dtxt/glove.840B.300d.txt'\n",
    "]"
   ]
  },
  {
   "cell_type": "code",
   "execution_count": 3,
   "metadata": {
    "execution": {
     "iopub.execute_input": "2021-06-30T11:41:40.543522Z",
     "iopub.status.busy": "2021-06-30T11:41:40.543166Z",
     "iopub.status.idle": "2021-06-30T11:41:40.550801Z",
     "shell.execute_reply": "2021-06-30T11:41:40.550007Z",
     "shell.execute_reply.started": "2021-06-30T11:41:40.543476Z"
    }
   },
   "outputs": [],
   "source": [
    "NUM_MODELS = 2\n",
    "BATCH_SIZE = 512\n",
    "LSTM_UNITS = 128\n",
    "DENSE_HIDDEN_UNITS = 4 * LSTM_UNITS\n",
    "EPOCHS = 3\n",
    "MAX_LEN = 220"
   ]
  },
  {
   "cell_type": "code",
   "execution_count": 4,
   "metadata": {
    "execution": {
     "iopub.execute_input": "2021-06-30T11:41:40.554427Z",
     "iopub.status.busy": "2021-06-30T11:41:40.554066Z",
     "iopub.status.idle": "2021-06-30T11:42:01.614179Z",
     "shell.execute_reply": "2021-06-30T11:42:01.613464Z",
     "shell.execute_reply.started": "2021-06-30T11:41:40.554258Z"
    }
   },
   "outputs": [],
   "source": [
    "train = pd.read_csv('../input/jigsaw-unintended-bias-in-toxicity-classification/train.csv',low_memory=True)\n",
    "test = pd.read_csv('../input/jigsaw-unintended-bias-in-toxicity-classification/test.csv',low_memory=True)"
   ]
  },
  {
   "cell_type": "code",
   "execution_count": 5,
   "metadata": {
    "execution": {
     "iopub.execute_input": "2021-06-30T11:42:01.615525Z",
     "iopub.status.busy": "2021-06-30T11:42:01.615262Z",
     "iopub.status.idle": "2021-06-30T11:42:01.622752Z",
     "shell.execute_reply": "2021-06-30T11:42:01.621050Z",
     "shell.execute_reply.started": "2021-06-30T11:42:01.615482Z"
    }
   },
   "outputs": [],
   "source": [
    "def preprocess(data):\n",
    "    '''\n",
    "    Credit goes to https://www.kaggle.com/gpreda/jigsaw-fast-compact-solution\n",
    "    '''\n",
    "    punct = \"/-'?!.,#$%\\'()*+-/:;<=>@[\\\\]^_`{|}~`\" + '\"\"“”’' + '∞θ÷α•à−β∅³π‘₹´°£€\\×™√²—–&'\n",
    "    def clean_special_chars(text, punct):\n",
    "        for p in punct:\n",
    "            text = text.replace(p, ' ')\n",
    "        return text\n",
    "\n",
    "    data = data.astype(str).apply(lambda x: clean_special_chars(x, punct))\n",
    "    return data\n"
   ]
  },
  {
   "cell_type": "code",
   "execution_count": 6,
   "metadata": {
    "execution": {
     "iopub.execute_input": "2021-06-30T11:42:01.624385Z",
     "iopub.status.busy": "2021-06-30T11:42:01.623899Z",
     "iopub.status.idle": "2021-06-30T11:42:26.728585Z",
     "shell.execute_reply": "2021-06-30T11:42:26.727752Z",
     "shell.execute_reply.started": "2021-06-30T11:42:01.624157Z"
    }
   },
   "outputs": [],
   "source": [
    "x_train = preprocess(train['comment_text'])\n",
    "y_train = np.where(train['target'] >= 0.5, 1, 0)"
   ]
  },
  {
   "cell_type": "code",
   "execution_count": 7,
   "metadata": {
    "execution": {
     "iopub.execute_input": "2021-06-30T11:42:26.730099Z",
     "iopub.status.busy": "2021-06-30T11:42:26.729827Z",
     "iopub.status.idle": "2021-06-30T11:42:28.082794Z",
     "shell.execute_reply": "2021-06-30T11:42:28.081777Z",
     "shell.execute_reply.started": "2021-06-30T11:42:26.730054Z"
    }
   },
   "outputs": [],
   "source": [
    "y_aux_train = train[['target', 'severe_toxicity', 'obscene', 'identity_attack', 'insult', 'threat']]\n",
    "x_test = preprocess(test['comment_text'])"
   ]
  },
  {
   "cell_type": "code",
   "execution_count": 8,
   "metadata": {
    "execution": {
     "iopub.execute_input": "2021-06-30T11:42:28.084350Z",
     "iopub.status.busy": "2021-06-30T11:42:28.084046Z",
     "iopub.status.idle": "2021-06-30T11:44:06.270335Z",
     "shell.execute_reply": "2021-06-30T11:44:06.269473Z",
     "shell.execute_reply.started": "2021-06-30T11:42:28.084296Z"
    }
   },
   "outputs": [],
   "source": [
    "tokenizer = text.Tokenizer()\n",
    "tokenizer.fit_on_texts(list(x_train) + list(x_test))"
   ]
  },
  {
   "cell_type": "code",
   "execution_count": 9,
   "metadata": {
    "execution": {
     "iopub.execute_input": "2021-06-30T11:44:06.271992Z",
     "iopub.status.busy": "2021-06-30T11:44:06.271729Z",
     "iopub.status.idle": "2021-06-30T11:45:33.969084Z",
     "shell.execute_reply": "2021-06-30T11:45:33.968105Z",
     "shell.execute_reply.started": "2021-06-30T11:44:06.271948Z"
    }
   },
   "outputs": [],
   "source": [
    "x_train = tokenizer.texts_to_sequences(x_train)\n",
    "x_test = tokenizer.texts_to_sequences(x_test)"
   ]
  },
  {
   "cell_type": "code",
   "execution_count": 10,
   "metadata": {
    "execution": {
     "iopub.execute_input": "2021-06-30T11:45:33.970685Z",
     "iopub.status.busy": "2021-06-30T11:45:33.970374Z",
     "iopub.status.idle": "2021-06-30T11:46:04.633287Z",
     "shell.execute_reply": "2021-06-30T11:46:04.632432Z",
     "shell.execute_reply.started": "2021-06-30T11:45:33.970631Z"
    }
   },
   "outputs": [],
   "source": [
    "x_train = sequence.pad_sequences(x_train, maxlen=MAX_LEN)\n",
    "x_test = sequence.pad_sequences(x_test, maxlen=MAX_LEN)"
   ]
  },
  {
   "cell_type": "code",
   "execution_count": 11,
   "metadata": {
    "execution": {
     "iopub.execute_input": "2021-06-30T11:46:04.634898Z",
     "iopub.status.busy": "2021-06-30T11:46:04.634623Z",
     "iopub.status.idle": "2021-06-30T11:46:04.943140Z",
     "shell.execute_reply": "2021-06-30T11:46:04.942061Z",
     "shell.execute_reply.started": "2021-06-30T11:46:04.634854Z"
    }
   },
   "outputs": [
    {
     "data": {
      "text/plain": [
       "7"
      ]
     },
     "execution_count": 11,
     "metadata": {},
     "output_type": "execute_result"
    }
   ],
   "source": [
    "import gc\n",
    "del train\n",
    "gc.collect()"
   ]
  },
  {
   "cell_type": "code",
   "execution_count": 12,
   "metadata": {
    "execution": {
     "iopub.execute_input": "2021-06-30T11:46:04.945675Z",
     "iopub.status.busy": "2021-06-30T11:46:04.945103Z",
     "iopub.status.idle": "2021-06-30T11:46:04.950208Z",
     "shell.execute_reply": "2021-06-30T11:46:04.949090Z",
     "shell.execute_reply.started": "2021-06-30T11:46:04.945466Z"
    }
   },
   "outputs": [],
   "source": [
    "def get_coefs(word, *arr):\n",
    "    return word, np.asarray(arr, dtype='float32')"
   ]
  },
  {
   "cell_type": "code",
   "execution_count": 13,
   "metadata": {
    "execution": {
     "iopub.execute_input": "2021-06-30T11:46:04.952592Z",
     "iopub.status.busy": "2021-06-30T11:46:04.952152Z",
     "iopub.status.idle": "2021-06-30T11:46:04.960171Z",
     "shell.execute_reply": "2021-06-30T11:46:04.958847Z",
     "shell.execute_reply.started": "2021-06-30T11:46:04.952401Z"
    }
   },
   "outputs": [],
   "source": [
    "def load_embeddings(path):\n",
    "    with open(path) as f:\n",
    "        return dict(get_coefs(*line.strip().split(' ')) for line in f)"
   ]
  },
  {
   "cell_type": "code",
   "execution_count": 14,
   "metadata": {
    "execution": {
     "iopub.execute_input": "2021-06-30T11:46:04.962527Z",
     "iopub.status.busy": "2021-06-30T11:46:04.961739Z",
     "iopub.status.idle": "2021-06-30T11:46:04.972949Z",
     "shell.execute_reply": "2021-06-30T11:46:04.972189Z",
     "shell.execute_reply.started": "2021-06-30T11:46:04.962206Z"
    }
   },
   "outputs": [],
   "source": [
    "def build_matrix(word_index, path):\n",
    "    embedding_index = load_embeddings(path)\n",
    "    embedding_matrix = np.zeros((len(word_index) + 1, 300))\n",
    "    for word, i in word_index.items():\n",
    "        try:\n",
    "            embedding_matrix[i] = embedding_index[word]\n",
    "        except KeyError:\n",
    "            pass\n",
    "    return embedding_matrix"
   ]
  },
  {
   "cell_type": "code",
   "execution_count": 15,
   "metadata": {
    "execution": {
     "iopub.execute_input": "2021-06-30T11:46:04.976522Z",
     "iopub.status.busy": "2021-06-30T11:46:04.976172Z",
     "iopub.status.idle": "2021-06-30T11:54:47.229978Z",
     "shell.execute_reply": "2021-06-30T11:54:47.229150Z",
     "shell.execute_reply.started": "2021-06-30T11:46:04.976361Z"
    }
   },
   "outputs": [],
   "source": [
    "embedding_matrix = np.concatenate(\n",
    "    [build_matrix(tokenizer.word_index, f) for f in EMBEDDING_FILES], axis=-1)"
   ]
  },
  {
   "cell_type": "code",
   "execution_count": 16,
   "metadata": {
    "execution": {
     "iopub.execute_input": "2021-06-30T11:54:47.231515Z",
     "iopub.status.busy": "2021-06-30T11:54:47.231253Z",
     "iopub.status.idle": "2021-06-30T11:54:47.338958Z",
     "shell.execute_reply": "2021-06-30T11:54:47.338159Z",
     "shell.execute_reply.started": "2021-06-30T11:54:47.231471Z"
    }
   },
   "outputs": [
    {
     "data": {
      "text/plain": [
       "0"
      ]
     },
     "execution_count": 16,
     "metadata": {},
     "output_type": "execute_result"
    }
   ],
   "source": [
    "del tokenizer\n",
    "gc.collect()"
   ]
  },
  {
   "cell_type": "code",
   "execution_count": 17,
   "metadata": {
    "execution": {
     "iopub.execute_input": "2021-06-30T11:54:47.340679Z",
     "iopub.status.busy": "2021-06-30T11:54:47.340207Z",
     "iopub.status.idle": "2021-06-30T11:54:47.347996Z",
     "shell.execute_reply": "2021-06-30T11:54:47.347407Z",
     "shell.execute_reply.started": "2021-06-30T11:54:47.340622Z"
    }
   },
   "outputs": [],
   "source": [
    "checkpoint_predictions = []\n",
    "weights = []"
   ]
  },
  {
   "cell_type": "code",
   "execution_count": 18,
   "metadata": {
    "execution": {
     "iopub.execute_input": "2021-06-30T11:54:47.350204Z",
     "iopub.status.busy": "2021-06-30T11:54:47.349687Z",
     "iopub.status.idle": "2021-06-30T11:54:47.359028Z",
     "shell.execute_reply": "2021-06-30T11:54:47.358289Z",
     "shell.execute_reply.started": "2021-06-30T11:54:47.350034Z"
    }
   },
   "outputs": [],
   "source": [
    "def build_model(embedding_matrix, num_aux_targets):\n",
    "    words = Input(shape=(MAX_LEN,))\n",
    "    x = Embedding(*embedding_matrix.shape, weights=[embedding_matrix], trainable=False)(words) #Finds word embeddings for each word\n",
    "    x = SpatialDropout1D(0.3)(x) #This version performs the same function as Dropout, however it drops entire 1D feature maps instead of individual elements\n",
    "    x = Bidirectional(CuDNNLSTM(LSTM_UNITS, return_sequences=True))(x)\n",
    "    x = Bidirectional(CuDNNLSTM(LSTM_UNITS, return_sequences=True))(x)\n",
    "    hidden = concatenate([\n",
    "        GlobalMaxPooling1D()(x), \n",
    "        GlobalAveragePooling1D()(x),#layer returns a fixed-length output vector for each example by averaging over the sequence dimension. This allows the model to handle input \n",
    "        #of variable length in the simplest way possible.\n",
    "    ])\n",
    "    hidden = add([hidden, Dense(DENSE_HIDDEN_UNITS, activation='relu')(hidden)]) #This fixed-length output vector is piped through a fully-connected (Dense) layer with x hidden units.\n",
    "    hidden = add([hidden, Dense(DENSE_HIDDEN_UNITS, activation='relu')(hidden)])\n",
    "    result = Dense(1, activation='sigmoid')(hidden)\n",
    "    aux_result = Dense(num_aux_targets, activation='sigmoid')(hidden)\n",
    "    model = Model(inputs=words, outputs=[result, aux_result])\n",
    "    model.compile(loss='binary_crossentropy', optimizer='adam')\n",
    "    \n",
    "    return model"
   ]
  },
  {
   "cell_type": "code",
   "execution_count": 19,
   "metadata": {
    "execution": {
     "iopub.execute_input": "2021-06-30T11:54:47.360684Z",
     "iopub.status.busy": "2021-06-30T11:54:47.360219Z",
     "iopub.status.idle": "2021-06-30T13:13:22.003228Z",
     "shell.execute_reply": "2021-06-30T13:13:22.002389Z",
     "shell.execute_reply.started": "2021-06-30T11:54:47.360633Z"
    }
   },
   "outputs": [
    {
     "name": "stdout",
     "output_type": "stream",
     "text": [
      "WARNING:tensorflow:From /opt/conda/lib/python3.6/site-packages/tensorflow/python/framework/op_def_library.py:263: colocate_with (from tensorflow.python.framework.ops) is deprecated and will be removed in a future version.\n",
      "Instructions for updating:\n",
      "Colocations handled automatically by placer.\n",
      "WARNING:tensorflow:From /opt/conda/lib/python3.6/site-packages/keras/backend/tensorflow_backend.py:3445: calling dropout (from tensorflow.python.ops.nn_ops) with keep_prob is deprecated and will be removed in a future version.\n",
      "Instructions for updating:\n",
      "Please use `rate` instead of `keep_prob`. Rate should be set to `rate = 1 - keep_prob`.\n",
      "WARNING:tensorflow:From /opt/conda/lib/python3.6/site-packages/tensorflow/python/ops/math_ops.py:3066: to_int32 (from tensorflow.python.ops.math_ops) is deprecated and will be removed in a future version.\n",
      "Instructions for updating:\n",
      "Use tf.cast instead.\n",
      "WARNING:tensorflow:From /opt/conda/lib/python3.6/site-packages/tensorflow/python/ops/math_grad.py:102: div (from tensorflow.python.ops.math_ops) is deprecated and will be removed in a future version.\n",
      "Instructions for updating:\n",
      "Deprecated in favor of operator or tf.math.divide.\n",
      "Epoch 1/1\n",
      " - 769s - loss: 0.2373 - dense_3_loss: 0.1302 - dense_4_loss: 0.1071\n",
      "Epoch 1/1\n",
      " - 769s - loss: 0.2176 - dense_3_loss: 0.1149 - dense_4_loss: 0.1027\n",
      "Epoch 1/1\n",
      " - 772s - loss: 0.2112 - dense_3_loss: 0.1095 - dense_4_loss: 0.1018\n",
      "Epoch 1/1\n",
      " - 773s - loss: 0.2384 - dense_7_loss: 0.1309 - dense_8_loss: 0.1074\n",
      "Epoch 1/1\n",
      " - 771s - loss: 0.2178 - dense_7_loss: 0.1151 - dense_8_loss: 0.1027\n",
      "Epoch 1/1\n",
      " - 771s - loss: 0.2116 - dense_7_loss: 0.1098 - dense_8_loss: 0.1018\n"
     ]
    }
   ],
   "source": [
    "for model_idx in range(NUM_MODELS):\n",
    "    model = build_model(embedding_matrix, y_aux_train.shape[-1])\n",
    "    for global_epoch in range(EPOCHS):\n",
    "        model.fit(\n",
    "            x_train,\n",
    "            [y_train, y_aux_train],\n",
    "            batch_size=BATCH_SIZE,\n",
    "            epochs=1,\n",
    "            verbose=2,\n",
    "            callbacks=[\n",
    "                LearningRateScheduler(lambda epoch: 1e-3 * (0.6 ** global_epoch))\n",
    "            ]\n",
    "        )\n",
    "        checkpoint_predictions.append(model.predict(x_test, batch_size=2048)[0].flatten())\n",
    "        weights.append(2 ** global_epoch)\n",
    "predictions = np.average(checkpoint_predictions, weights=weights, axis=0)"
   ]
  },
  {
   "cell_type": "code",
   "execution_count": 20,
   "metadata": {
    "execution": {
     "iopub.execute_input": "2021-06-30T13:13:22.005549Z",
     "iopub.status.busy": "2021-06-30T13:13:22.004977Z",
     "iopub.status.idle": "2021-06-30T13:13:22.722581Z",
     "shell.execute_reply": "2021-06-30T13:13:22.721593Z",
     "shell.execute_reply.started": "2021-06-30T13:13:22.005492Z"
    }
   },
   "outputs": [],
   "source": [
    "submission = pd.DataFrame.from_dict({\n",
    "    'id': test['id'],\n",
    "    'prediction': predictions\n",
    "})\n",
    "\n",
    "submission.to_csv('submission.csv', index=False)"
   ]
  }
 ],
 "metadata": {
  "kernelspec": {
   "display_name": "Python 3",
   "language": "python",
   "name": "python3"
  },
  "language_info": {
   "codemirror_mode": {
    "name": "ipython",
    "version": 3
   },
   "file_extension": ".py",
   "mimetype": "text/x-python",
   "name": "python",
   "nbconvert_exporter": "python",
   "pygments_lexer": "ipython3",
   "version": "3.8.5"
  }
 },
 "nbformat": 4,
 "nbformat_minor": 4
}
